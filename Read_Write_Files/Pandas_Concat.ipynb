{
 "cells": [
  {
   "cell_type": "code",
   "execution_count": 4,
   "metadata": {},
   "outputs": [],
   "source": [
    "import os\n",
    "import pandas as pd"
   ]
  },
  {
   "cell_type": "code",
   "execution_count": 5,
   "metadata": {},
   "outputs": [
    {
     "name": "stderr",
     "output_type": "stream",
     "text": [
      "C:\\ProgramData\\Anaconda3\\lib\\site-packages\\IPython\\core\\interactiveshell.py:3049: DtypeWarning: Columns (16,32,33,34,36,37,38,56,69,83,108,109,126,128,129,132,134,137,138,139,140,141,182,190,246,261,270,308,311,312,313,379,405,406,408,415,419,457,467,468,475,476,481,483) have mixed types. Specify dtype option on import or set low_memory=False.\n",
      "  interactivity=interactivity, compiler=compiler, result=result)\n",
      "C:\\ProgramData\\Anaconda3\\lib\\site-packages\\IPython\\core\\interactiveshell.py:3049: DtypeWarning: Columns (128,243,265,397,398,465) have mixed types. Specify dtype option on import or set low_memory=False.\n",
      "  interactivity=interactivity, compiler=compiler, result=result)\n",
      "C:\\ProgramData\\Anaconda3\\lib\\site-packages\\IPython\\core\\interactiveshell.py:3049: DtypeWarning: Columns (16,48,106,126,179,243,265,334,397,398,407,411,467,468,482) have mixed types. Specify dtype option on import or set low_memory=False.\n",
      "  interactivity=interactivity, compiler=compiler, result=result)\n",
      "C:\\ProgramData\\Anaconda3\\lib\\site-packages\\IPython\\core\\interactiveshell.py:3049: DtypeWarning: Columns (16,69,109,128,129,132,137,138,139,182,246,260,268,400,401,410,414,452,470,471) have mixed types. Specify dtype option on import or set low_memory=False.\n",
      "  interactivity=interactivity, compiler=compiler, result=result)\n",
      "C:\\ProgramData\\Anaconda3\\lib\\site-packages\\IPython\\core\\interactiveshell.py:3049: DtypeWarning: Columns (9,13,19,20,21,38,39,53,58,59,60,61,62,63,64,65,66,67,68,69,76,81,87,91,95,97,98,104,105,112,120,125,160,173,192,193,194,213,214,224,231,237,238,242,244,245,246,262,285,286,312,313,319,322,323,324) have mixed types. Specify dtype option on import or set low_memory=False.\n",
      "  interactivity=interactivity, compiler=compiler, result=result)\n"
     ]
    }
   ],
   "source": [
    "#entries= os.listdir(r\"C:\\Users\\vikramku\\Desktop\\Target_Data_Analyst\\Python\\LEO\\Dumps\")\n",
    "\n",
    "os.chdir(r'C:\\Users\\vikramku\\Desktop\\Target_Data_Analyst\\Python\\LEO\\Dumps')\n",
    "cwd=os.getcwd()\n",
    "entries= os.listdir()\n",
    "\n",
    "# Define an empty dataframe\n",
    "combine_data=pd.DataFrame()\n",
    "\n",
    "# Now read all Eutrancellfile and assign them in dataframe and concate them\n",
    "for attr in entries:\n",
    "    name = attr\n",
    "    if name.startswith('Export_EUtranCellFDD_'):\n",
    "        df=pd.read_csv(name,sep='\\t')\n",
    "        combine_data=pd.concat([combine_data,df],sort=False)\n",
    "\n",
    "# Finally write the data in CSV\n",
    "combine_data.to_csv( \"combine_data.csv\", index=False,encoding='utf-8-sig')"
   ]
  },
  {
   "cell_type": "code",
   "execution_count": null,
   "metadata": {},
   "outputs": [],
   "source": []
  }
 ],
 "metadata": {
  "kernelspec": {
   "display_name": "Python 3",
   "language": "python",
   "name": "python3"
  },
  "language_info": {
   "codemirror_mode": {
    "name": "ipython",
    "version": 3
   },
   "file_extension": ".py",
   "mimetype": "text/x-python",
   "name": "python",
   "nbconvert_exporter": "python",
   "pygments_lexer": "ipython3",
   "version": "3.7.3"
  }
 },
 "nbformat": 4,
 "nbformat_minor": 2
}
