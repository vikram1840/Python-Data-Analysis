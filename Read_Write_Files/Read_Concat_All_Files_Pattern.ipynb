{
 "cells": [
  {
   "cell_type": "markdown",
   "metadata": {},
   "source": [
    "#### This python code written to list all files with a specific pattern in directory Merge the content of all file in one and generate the new file"
   ]
  },
  {
   "cell_type": "code",
   "execution_count": 1,
   "metadata": {},
   "outputs": [],
   "source": [
    "import os"
   ]
  },
  {
   "cell_type": "markdown",
   "metadata": {},
   "source": [
    "##### List All files in a specific directory"
   ]
  },
  {
   "cell_type": "code",
   "execution_count": 3,
   "metadata": {},
   "outputs": [
    {
     "data": {
      "text/plain": [
       "['concat_Eutrancellfdd.py',\n",
       " 'EutranCell.txt',\n",
       " 'Export_EUtranCellFDD__17Feb1049.txt',\n",
       " 'Export_EUtranCellFDD__17Feb1122.txt',\n",
       " 'Export_EUtranCellFDD__19Feb1126.txt']"
      ]
     },
     "execution_count": 3,
     "metadata": {},
     "output_type": "execute_result"
    }
   ],
   "source": [
    "entries= os.listdir(r\"C:\\Users\\vikramku\\Desktop\\Target_Data_Analyst\\Python\\Data Analysis\\pandas\\EutranCell\")\n",
    "entries"
   ]
  },
  {
   "cell_type": "markdown",
   "metadata": {},
   "source": [
    "##### Store file name that will start with export_eutrancellfdd"
   ]
  },
  {
   "cell_type": "markdown",
   "metadata": {},
   "source": [
    "##### Then Will Read first of such file and append the same in new file"
   ]
  },
  {
   "cell_type": "markdown",
   "metadata": {},
   "source": [
    "##### Same process of read file and appending will continue till it read all files with name export_eutrancellfdd"
   ]
  },
  {
   "cell_type": "code",
   "execution_count": null,
   "metadata": {},
   "outputs": [],
   "source": [
    "data = \"\"\n",
    "for attr in entries:\n",
    "    name = attr\n",
    "    if name.startswith('Export_EUtranCellFDD'):\n",
    "        file_name = name\n",
    "        with open (r\"C:\\\\Users\\\\vikramku\\\\Desktop\\\\Target_Data_Analyst\\\\Python\\\\Data Analysis\\\\pandas\\\\EutranCell\\\\\" + file_name,\"r\") as fp:\n",
    "            data=fp.read()\n",
    "            data += \"\\n\"\n",
    "        with open(r\"C:\\\\Users\\\\vikramku\\\\Desktop\\\\Target_Data_Analyst\\\\Python\\\\Data Analysis\\\\pandas\\EutranCell\\\\EutranCell.txt\",\"a\") as fp1:\n",
    "            fp1.write(data)"
   ]
  }
 ],
 "metadata": {
  "kernelspec": {
   "display_name": "Python 3",
   "language": "python",
   "name": "python3"
  },
  "language_info": {
   "codemirror_mode": {
    "name": "ipython",
    "version": 3
   },
   "file_extension": ".py",
   "mimetype": "text/x-python",
   "name": "python",
   "nbconvert_exporter": "python",
   "pygments_lexer": "ipython3",
   "version": "3.7.3"
  }
 },
 "nbformat": 4,
 "nbformat_minor": 2
}
